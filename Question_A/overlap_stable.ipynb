{
 "cells": [
  {
   "cell_type": "code",
   "execution_count": 13,
   "metadata": {},
   "outputs": [],
   "source": [
    "from matplotlib import pyplot as plt \n",
    "from interval import interval"
   ]
  },
  {
   "cell_type": "code",
   "execution_count": 14,
   "metadata": {},
   "outputs": [
    {
     "name": "stdout",
     "output_type": "stream",
     "text": [
      "Enter x values (x_1,x_2,x_3,x4): 1 5 2 6\n"
     ]
    }
   ],
   "source": [
    "# lines input\n",
    "x_1,x_2,x_3,x_4  = [int(x) for x in input(\"Enter x values (x_1,x_2,x_3,x4): \").split()]\n",
    "# sup limit at x axis\n",
    "xmax = max(x_1,x_2,x_3,x_4)\n",
    "# min limit at x axis\n",
    "xmin = min(x_1,x_2,x_3,x_4) "
   ]
  },
  {
   "cell_type": "code",
   "execution_count": 15,
   "metadata": {},
   "outputs": [],
   "source": [
    "# lines or intevals \n",
    "line_a = interval[x_1,x_2]\n",
    "line_b = interval[x_3,x_4]\n",
    "#intersection or overlap points\n",
    "overlap_points = line_a&line_b  "
   ]
  },
  {
   "cell_type": "code",
   "execution_count": 16,
   "metadata": {},
   "outputs": [],
   "source": [
    "# plot line function\n",
    "def plot_line(ax,x_a,\n",
    "              x_b,y,\n",
    "             color):\n",
    "    #plot x points\n",
    "    ax.hlines(y,x_a,x_b,color=color)\n",
    "    #plot x ticks\n",
    "    ax.vlines(x_a, y - 0.01 / 2., y + 0.01 / 2.,colors=color)\n",
    "    ax.vlines(x_b, y - 0.01 / 2., y + 0.01 / 2.,colors=color)\n",
    "    #add number\n",
    "    ax.text(x_a, y+0.01,x_a,horizontalalignment='center')\n",
    "    ax.text(x_b, y+0.01,x_b,horizontalalignment='center')       "
   ]
  },
  {
   "cell_type": "code",
   "execution_count": 17,
   "metadata": {},
   "outputs": [
    {
     "data": {
      "image/png": "[encoded data removed]",
      "text/plain": [
       "<Figure size 1080x360 with 1 Axes>"
      ]
     },
     "metadata": {
      "needs_background": "light"
     },
     "output_type": "display_data"
    }
   ],
   "source": [
    "# set up the figure \n",
    "fig,ax=plt.subplots(figsize=(15,5))\n",
    "plt.gca().set_ylim(-0.5,0.1)\n",
    "plt.gca().set_xlim(xmin-1,xmax+1)\n",
    "# x-axis\n",
    "plot_line(ax,xmax+1,xmin-1,color= 'gray', y=0)\n",
    "# line_a\n",
    "plot_line(ax,line_a[0][0],line_a[0][1],color= 'blue', y=0)\n",
    "#line_b\n",
    "plot_line(ax,line_b[0][0],line_b[0][1],color= 'green', y=0)\n",
    "# overlap line\n",
    "if len(overlap_points) != 0:\n",
    "    #plot overlap line\n",
    "    plot_line(ax,overlap_points[0][0],overlap_points[0][1],color='red',y=0)\n",
    "    #set title\n",
    "    ax.text(xmax/2,0.03,'The two lines overlaps',horizontalalignment='center')\n",
    "else:\n",
    "    ax.text(xmax/2,0.03,'The two lines no overlap',horizontalalignment='center')\n",
    "plt.axis('off')\n",
    "plt.show()"
   ]
  },
  {
   "cell_type": "code",
   "execution_count": null,
   "metadata": {},
   "outputs": [],
   "source": []
  }
 ],
 "metadata": {
  "kernelspec": {
   "display_name": "Python 3",
   "language": "python",
   "name": "python3"
  },
  "language_info": {
   "codemirror_mode": {
    "name": "ipython",
    "version": 3
   },
   "file_extension": ".py",
   "mimetype": "text/x-python",
   "name": "python",
   "nbconvert_exporter": "python",
   "pygments_lexer": "ipython3",
   "version": "3.8.5"
  }
 },
 "nbformat": 4,
 "nbformat_minor": 4
}
